{
 "cells": [
  {
   "metadata": {},
   "cell_type": "markdown",
   "source": "# Bei dem gesuchten Spiel handelt es sich um ",
   "id": "f86884a630772b02"
  },
  {
   "metadata": {},
   "cell_type": "markdown",
   "source": "",
   "id": "5733525ec1102a5f"
  }
 ],
 "metadata": {
  "kernelspec": {
   "display_name": "Python 3",
   "language": "python",
   "name": "python3"
  },
  "language_info": {
   "codemirror_mode": {
    "name": "ipython",
    "version": 2
   },
   "file_extension": ".py",
   "mimetype": "text/x-python",
   "name": "python",
   "nbconvert_exporter": "python",
   "pygments_lexer": "ipython2",
   "version": "2.7.6"
  }
 },
 "nbformat": 4,
 "nbformat_minor": 5
}
