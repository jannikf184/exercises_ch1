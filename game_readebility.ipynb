{
 "cells": [
  {
   "cell_type": "code",
   "execution_count": null,
   "id": "initial_id",
   "metadata": {
    "collapsed": true
   },
   "outputs": [],
   "source": [
    "import numpy as n\n",
    "def game(x,y):\n",
    "        if x=='a' and y=='b':return\"x wins\"\n",
    "        if x=='a' and y=='c':return\"y wins\"\n",
    "        if x=='b' and y=='a':return\"y wins\"\n",
    "        if x=='b' and y=='c':return\"x wins\"\n",
    "        if x=='c' and y=='a':return\"x wins\"\n",
    "        if x=='c' and y=='b':return\"y wins\"\n",
    "        if x == y:return\"Draw\"\n",
    "x1=input(\"x:\")\n",
    "y1=input(\"y:\")\n",
    "print(game(x1,y1))"
   ]
  }
 ],
 "metadata": {
  "kernelspec": {
   "display_name": "Python 3",
   "language": "python",
   "name": "python3"
  },
  "language_info": {
   "codemirror_mode": {
    "name": "ipython",
    "version": 2
   },
   "file_extension": ".py",
   "mimetype": "text/x-python",
   "name": "python",
   "nbconvert_exporter": "python",
   "pygments_lexer": "ipython2",
   "version": "2.7.6"
  }
 },
 "nbformat": 4,
 "nbformat_minor": 5
}
