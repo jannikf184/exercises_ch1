{
 "cells": [
  {
   "metadata": {},
   "cell_type": "markdown",
   "source": [
    "# Aufgabe Modularity\n",
    "Versuche den untenstehenden Code in sinnvolle Teilabschnitte zu unterteilen, sodass er besser verständlich und einfacher veränderbar ist"
   ],
   "id": "3f1fb18889796f44"
  },
  {
   "cell_type": "code",
   "execution_count": null,
   "id": "initial_id",
   "metadata": {
    "collapsed": true
   },
   "outputs": [],
   "source": [
    "def analyze_data1(data):\n",
    "    cleaned = [x.strip().lower() for x in data if x]\n",
    "    word_count = {}\n",
    "    for word in cleaned:\n",
    "        if word in word_count:\n",
    "            word_count[word] += 1\n",
    "        else:\n",
    "            word_count[word] = 1\n",
    "    print(\"Wörter gezählt:\", word_count)\n",
    "    return sum(word_count.values())"
   ]
  }
 ],
 "metadata": {
  "kernelspec": {
   "display_name": "Python 3",
   "language": "python",
   "name": "python3"
  },
  "language_info": {
   "codemirror_mode": {
    "name": "ipython",
    "version": 2
   },
   "file_extension": ".py",
   "mimetype": "text/x-python",
   "name": "python",
   "nbconvert_exporter": "python",
   "pygments_lexer": "ipython2",
   "version": "2.7.6"
  }
 },
 "nbformat": 4,
 "nbformat_minor": 5
}
