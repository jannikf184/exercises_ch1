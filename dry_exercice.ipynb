{
 "cells": [
  {
   "metadata": {},
   "cell_type": "markdown",
   "source": [
    "# Aufgabe Don't repeat yourself (DRY)\n",
    "Versuche die untenstehenden mit Hilfe eier Funktion so zu vereinfachen, dass sie einfach anpassbar sind sollte ein weiterer Name hinzugefügt werden müsssen."
   ],
   "id": "4c150f5df02dc3c"
  },
  {
   "cell_type": "code",
   "execution_count": null,
   "id": "initial_id",
   "metadata": {
    "collapsed": true
   },
   "outputs": [],
   "source": [
    "print(\"Hello, Alice!\")\n",
    "print(\"Hello, Bob!\")\n",
    "print(\"Hello, Charlie!\")"
   ]
  }
 ],
 "metadata": {
  "kernelspec": {
   "display_name": "Python 3",
   "language": "python",
   "name": "python3"
  },
  "language_info": {
   "codemirror_mode": {
    "name": "ipython",
    "version": 2
   },
   "file_extension": ".py",
   "mimetype": "text/x-python",
   "name": "python",
   "nbconvert_exporter": "python",
   "pygments_lexer": "ipython2",
   "version": "2.7.6"
  }
 },
 "nbformat": 4,
 "nbformat_minor": 5
}
